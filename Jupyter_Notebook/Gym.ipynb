{
 "cells": [
  {
   "cell_type": "code",
   "execution_count": 41,
   "metadata": {},
   "outputs": [],
   "source": [
    "#########################################################################################################################\n",
    "#\t\t\t\t\t\tWritten by: Yih Kai Teh\t\t\t\t\t\t\t\t\t\t\t\t\t\t\t\t\t\t\t#\n",
    "#\t\t\t\t\t\t\t\t\t\t\t\t\t\t\t\t\t\t\t\t\t\t\t\t\t\t\t\t\t\t#\n",
    "#\tThis project is from one of my modules (Advanced Topic in Machine Learning) at UCL taught by Google DeepMind\t\t#\n",
    "#\t\t\t\t\t\t\t\t\t\t\t\t\t\t\t\t\t\t\t\t\t\t\t\t\t\t\t\t\t\t#\n",
    "#\t\t\t\t\t\tEdited by: Francesco Stranieri\t\t\t\t\t\t\t\t\t\t\t\t\t\t\t\t\t#\n",
    "#\t\t\t\t\t\t\t\t\t\t\t\t\t\t\t\t\t\t\t\t\t\t\t\t\t\t\t\t\t\t#\n",
    "#########################################################################################################################"
   ]
  },
  {
   "cell_type": "code",
   "execution_count": 42,
   "metadata": {},
   "outputs": [],
   "source": [
    "import gym\n",
    "import tensorflow as tf\n",
    "from tensorflow.contrib.layers import convolution2d, fully_connected\n",
    "\n",
    "import random\n",
    "import numpy as np\n",
    "from collections import deque\n",
    "import os\n",
    "#import pathlib\n",
    "\n",
    "import matplotlib as mpl\n",
    "mpl.use('Agg')\n",
    "import matplotlib.pyplot as plt\n",
    "\n",
    "from skimage.transform import resize\n",
    "from skimage.color import rgb2gray\n",
    "\n",
    "#import cv2"
   ]
  },
  {
   "cell_type": "code",
   "execution_count": 43,
   "metadata": {},
   "outputs": [],
   "source": [
    "game = \"MsPacman\"\n",
    "version = \"-v4\""
   ]
  },
  {
   "cell_type": "code",
   "execution_count": 44,
   "metadata": {},
   "outputs": [],
   "source": [
    "env = gym.make(game+version)\t\t\t\t\t\t# atari games selection"
   ]
  },
  {
   "cell_type": "code",
   "execution_count": 45,
   "metadata": {},
   "outputs": [],
   "source": [
    "max_score = 0\t\t\t\t\t\t\t\t\t\t# initialized the best score of the game as 0 (for saving model with best score)\n",
    "n_steps = 1000000 / 8\t\t\t\t\t\t\t\t\t# train for 1 millions steps (can increase for more if have better GPU)\tADDED /2\n",
    "batch_size = 64\t\t\t\t\t\t\t\t\t\t# mini batch size used for optimization\n",
    "discount_rate = 0.99\t\t\t\t\t\t\t\t# discount rate (control the value of reward for near future or distant future)\n",
    "test_episode = int(100/2)\t\t\t\t\t\t\t\t# number of test episodes to run for evaluation as each episode is stostatic\tADDED /2\n",
    "\n",
    "replay_memory_size = n_steps / 2\t\t\t\t\t# size of the Experience Replay to store the previous episodes \n",
    "replay_memory = deque()\t\t\t\t\t\t\t\t# store of the details of episodes in Experience Replay\n",
    "\n",
    "input_height = input_width = 28\t\t\t\t\t\t# size of the reduced image height and width \n",
    "input_channels = 4\t\t\t\t\t\t\t\t\t# the number of frame to stack together in order to capture the motion\n",
    "\n",
    "conv_kernel_output_channel = [16, 32]\t\t\t\t# output channel of kernel/filter for CNN\n",
    "conv_kernel_sizes = [(6,6), (4,4)]\t\t\t\t\t# size of the kernel/filter for CNN\n",
    "conv_strides = [2, 2]\t\t\t\t\t\t\t\t# number of strides for the kernel/filter to slide across image\n",
    "conv_paddings = [\"SAME\"] * 2\t\t\t\t\t\t# padding choice \n",
    "conv_activation = [tf.nn.relu] * 2\t\t\t\t\t# activation for CNN (RELU is used here)\n",
    "\n",
    "n_hidden_inputs = input_height * input_width * 2\t# size of the flatten layer\n",
    "n_hidden = 256\t\t\t\t\t\t\t\t\t\t# number of hidden layer\n",
    "n_outputs = env.action_space.n\t\t\t\t\t\t# number of possible output for the game (this is different for each game)"
   ]
  },
  {
   "cell_type": "code",
   "execution_count": 46,
   "metadata": {},
   "outputs": [],
   "source": [
    "initializer = tf.random_normal_initializer(seed=400, stddev=0.01)\t\t\t\t\t\t# initializer for weight\n",
    "b_initializer = tf.constant_initializer(0.1)\t\t\t\t\t\t\t\t\t\t\t# initializer for bias\n",
    "learning_rate =0.0001\t\t\t\t\t\t\t\t\t\t\t\t\t\t\t\t\t# learning rate for the optimizater \t\t\t\t\t\t\t\t\t\t\t\t\t\t\t\t\t\t\t\n",
    "Total_Clip_Return = Total_Discounted_Return = Total_Loss = Total_Episode = np.array([])\t# store the details of loss and return throughout the process for plotting the graph\n",
    "cummulative_loss = np.array([])\t\t\t\t\t\t\t\t\t\t\t\t\t\t\t# store the cummulative loss for every 50k steps to monitor the loss "
   ]
  },
  {
   "cell_type": "code",
   "execution_count": 47,
   "metadata": {},
   "outputs": [],
   "source": [
    "# Create directory if it not exist\n",
    "def check_directory(directory):\n",
    "\t#pathlib.Path(directory).mkdir(exist_ok=True) \n",
    "\tif not os.path.exists(directory):\n",
    "\t\tos.makedirs(directory)\n",
    "\n",
    "directory_game = './'+game\n",
    "check_directory(directory_game)"
   ]
  },
  {
   "cell_type": "code",
   "execution_count": 48,
   "metadata": {},
   "outputs": [],
   "source": [
    "# Q network architecture (conv(6x6x16) -> RELU -> conv(4x4x32) -> RELU -> flatten -> hidden layer (256 units) -> RELU -> output layer(number of actions))\n",
    "def q_network(X_state, scope):\n",
    "\tprev_layer = X_state\n",
    "\twith tf.variable_scope(scope) as scope:\n",
    "\t\tfor n_maps, kernel_size, stride, padding, activation in zip(conv_kernel_output_channel, conv_kernel_sizes, conv_strides, conv_paddings, conv_activation):\n",
    "\t\t\tprev_layer = convolution2d(prev_layer, num_outputs=n_maps, kernel_size=kernel_size, stride=stride, padding=padding, activation_fn=activation, weights_initializer=initializer, biases_initializer=b_initializer)\n",
    "\t\tlast_conv_layer_flat = tf.reshape(prev_layer, shape=[-1, n_hidden_inputs])\n",
    "\t\thidden = fully_connected(last_conv_layer_flat, n_hidden, activation_fn=tf.nn.relu, weights_initializer=initializer, biases_initializer=b_initializer)\n",
    "\t\toutputs = fully_connected(hidden, n_outputs, activation_fn=None, weights_initializer=initializer, biases_initializer=b_initializer)\n",
    "\ttrainable_vars = {var.name[len(scope.name):]: var for var in tf.get_collection(tf.GraphKeys.TRAINABLE_VARIABLES, scope=scope.name)}\n",
    "\treturn outputs, trainable_vars"
   ]
  },
  {
   "cell_type": "code",
   "execution_count": 49,
   "metadata": {},
   "outputs": [],
   "source": [
    "X_state = tf.placeholder(tf.float32, shape=[None, input_height, input_width, input_channels])\t# placeholder for the state\n",
    "target_Q_value, stationary_target_vars = q_network(X_state, scope=\"target_q_networks\")\t\t\t# the Q value from the stationary network\n",
    "Q_value, current_target_vars = q_network(X_state, scope=\"q_networks\")\t\t\t\t\t\t\t# the Q value from the current network\n",
    "\n",
    "# copy operation to update the stationary network by copying over from current network every 5k steps\n",
    "copy = [stationary_target_var.assign(current_target_vars[var_name]) for var_name, stationary_target_var in stationary_target_vars.items()]\n",
    "update_stationary_target = tf.group(*copy)"
   ]
  },
  {
   "cell_type": "code",
   "execution_count": 50,
   "metadata": {},
   "outputs": [],
   "source": [
    "# Huber loss uses MSE for low values and MAE for large values\n",
    "def huber_loss(y_true, y_pred):\n",
    "        return tf.losses.huber_loss(y_true, y_pred)\n",
    "\n",
    "with tf.variable_scope(\"train\"):\n",
    "\tX_action = tf.placeholder(tf.int32, shape=[None])\t\t\t\t\t\t\t\t\t\t# placeholder for the action\n",
    "\ty = tf.placeholder(tf.float32, shape=[None])\t\t\t\t\t\t\t\t\t\t\t# placeholder for the true Q value\n",
    "\tqvalue = tf.reduce_sum(tf.multiply(Q_value, tf.one_hot(X_action, n_outputs)), axis=1)\t# calculate the Q value\n",
    "\t#cost = tf.reduce_mean(tf.square(y - qvalue))\t\t\t\t\t\t\t\t\t\t\t# define the cost function (differences between the true and estimated Q value)\n",
    "\tcost = tf.reduce_mean(huber_loss(y, qvalue))\n",
    "\toptimizer = tf.train.AdamOptimizer(learning_rate)\t\t\t\t\t\t\t\t\t\t# optimizer used is ADAM, can be changed for other e.g. SGD\n",
    "\ttraining_op = optimizer.minimize(cost)\t\t\t\t\t\t\t\t\t\t\t\t\t# minimize the cost function"
   ]
  },
  {
   "cell_type": "code",
   "execution_count": 51,
   "metadata": {},
   "outputs": [],
   "source": [
    "# Randomly sample the mini batch of previous episdoes from experience replay for training\n",
    "def sample_memories(batch_size):\n",
    "\tindices = np.random.permutation(len(replay_memory))[:batch_size]\n",
    "\tcols = [[], [], [], [], []] \t\t\t\t\t\t\t\t\t\t# state, action, reward, next_state, continue\n",
    "\tfor idx in indices:\n",
    "\t\tmemory = replay_memory[idx]\n",
    "\t\tfor col, value in zip(cols, memory):\n",
    "\t\t\tcol.append(value)\n",
    "\tcols = [np.array(col) for col in cols]\n",
    "\treturn cols[0], cols[1], cols[2].reshape(-1, 1), cols[3], cols[4].reshape(-1, 1)"
   ]
  },
  {
   "cell_type": "code",
   "execution_count": 52,
   "metadata": {},
   "outputs": [],
   "source": [
    "# epsilon greedy with fix epsilon. Ideally, a decay epsilon is required to reach optimal policy. But it is difficult pick the decay rate.\n",
    "def epsilon_greedy(q_values):\n",
    "\tif float(np.random.rand(1)) < 0.1:\n",
    "\t\treturn env.action_space.sample() \t# random action\n",
    "\telse:\n",
    "\t\treturn np.argmax(q_values) \t\t\t# optimal action"
   ]
  },
  {
   "cell_type": "code",
   "execution_count": 53,
   "metadata": {},
   "outputs": [],
   "source": [
    "# preprocess observation to convert RGB into greyscale, remove some extra useless blank on the side, and resize. (Mainly to speed up computation and improve performance)\n",
    "def preprocess_observation(obs):\n",
    "\timg = resize(rgb2gray(obs[:, :, :]), (input_height, input_width), mode='constant')\n",
    "\t#cv2.namedWindow('image', cv2.WINDOW_NORMAL)\n",
    "\t#cv2.imshow('image',img)\n",
    "\t#cv2.waitKey(0)\n",
    "\t#cv2.destroyAllWindows()\n",
    "\timg = np.reshape(img, [input_height, input_width, 1])\n",
    "\treturn img"
   ]
  },
  {
   "cell_type": "code",
   "execution_count": 54,
   "metadata": {},
   "outputs": [],
   "source": [
    "# Build up the initial 4 frames in each eipsodes\n",
    "def initial_4_frames():\n",
    "\tfor t in range(input_channels):\n",
    "\t\tif t == 0:\t\t\t\t\t\t\t\t# for the first frame\n",
    "\t\t\tobs = env.reset()\n",
    "\t\t\timg = preprocess_observation(obs)\n",
    "\t\t\tstate = img\n",
    "\t\telse:\t\t\t\t\t\t\t\t\t# for the next 3 frames\n",
    "\t\t\tobs, _, _, _ = env.step(0)\n",
    "\t\t\timg = preprocess_observation(obs)\n",
    "\t\t\tstate = np.dstack((state, img))\n",
    "\treturn state"
   ]
  },
  {
   "cell_type": "code",
   "execution_count": 55,
   "metadata": {},
   "outputs": [],
   "source": [
    "# run the evaluation at every 50k steps in order to monitor the performance during training \n",
    "def evaluation(iteration, cummulative_loss):\n",
    "\tglobal Total_Clip_Return, Total_Discounted_Return, Total_Loss, Total_Episode\n",
    "\n",
    "\t# Reset all the return (real, discounted, clipped) to 0 for each time the evaluation is run\n",
    "\treal_return = clip_return = discounted_return = 0\n",
    "\n",
    "\t# run the evaluation for 100 episodes and take the average because each episodes is stochastics\n",
    "\tfor e in range(test_episode):\n",
    "\t\tprint(\"\\rTest: {} \".format(e), end=\"\")\n",
    "\n",
    "\t\t# Build up the initial 4 frames of observation\n",
    "\t\tevaluation_state = initial_4_frames()\n",
    "\n",
    "\t\t# reset the superscript of reward in each episodes \n",
    "\t\tsuperscript = 0\n",
    "\t\tndone = True\n",
    "\n",
    "\t\twhile ndone:\n",
    "\t\t\t# select action based on the maximum value of action-value function (Q function)\n",
    "\t\t\tselected_action = np.argmax(Q_value.eval(feed_dict={X_state: [evaluation_state]})[0])\n",
    "\n",
    "\t\t\t# Step through the environment with the selected action\n",
    "\t\t\tobs, reward, done, _ = env.step(selected_action)\n",
    "\n",
    "\t\t\t# Store the previous observation for later calculation and update the 4 frames with the latest observation\n",
    "\t\t\told_obs = evaluation_state\n",
    "\t\t\tnext_state = preprocess_observation(obs)\n",
    "\t\t\tevaluation_state = np.delete(evaluation_state, [0], axis=2)\n",
    "\t\t\tevaluation_state = np.dstack((evaluation_state, next_state))\n",
    "\n",
    "\t\t\t# Evaluate the real, clip and discounted rewards\n",
    "\t\t\treal_return +=  reward\n",
    "\t\t\treward = np.clip(reward, -1, 1)\n",
    "\t\t\tclip_return += reward\n",
    "\t\t\tdiscounted_return += (discount_rate ** (superscript)) * reward\n",
    "\n",
    "\t\t\t# increase the superscript of the reward in each timestep \n",
    "\t\t\tsuperscript += 1\n",
    "\n",
    "\t\t\tif done:\n",
    "\t\t\t\tndone = False\n",
    "\n",
    "\t# calculate all the average rewards (real, clip and discounted) over 100 episodes as the indicators of the performance\n",
    "\taverage_real_return = real_return/test_episode\n",
    "\taverage_clip_return = clip_return/test_episode\n",
    "\taverage_discounted_return = discounted_return/test_episode\n",
    "\n",
    "\t# Display and store all the result for plotting the graph at the end of training\n",
    "\tprint ('Steps: %4d Mean Real Return: %10f Mean Clip Return: %10f Mean Discounted Return: %10f Training Loss : %f' %(iteration + 1, average_real_return, average_clip_return, average_discounted_return, np.mean(cummulative_loss)))\n",
    "\tTotal_Clip_Return = np.append(Total_Clip_Return, average_clip_return)\n",
    "\tTotal_Discounted_Return = np.append(Total_Discounted_Return, average_discounted_return)\n",
    "\tTotal_Loss = np.append(Total_Loss, np.mean(cummulative_loss))\n",
    "\tTotal_Episode = np.append(Total_Episode, iteration + 1)\n",
    "\treturn average_clip_return"
   ]
  },
  {
   "cell_type": "code",
   "execution_count": 56,
   "metadata": {},
   "outputs": [
    {
     "name": "stdout",
     "output_type": "stream",
     "text": [
      "\r",
      "Iteration 0\r",
      "Iteration 1\r",
      "Iteration 2\r",
      "Iteration 3\r",
      "Iteration 4\r",
      "Iteration 5\r",
      "Iteration 6\r",
      "Iteration 7\r",
      "Iteration 8\r",
      "Iteration 9\r",
      "Iteration 10\r",
      "Iteration 11\r",
      "Iteration 12\r",
      "Iteration 13\r",
      "Iteration 14\r",
      "Iteration 15\r",
      "Iteration 16\r",
      "Iteration 17\r",
      "Iteration 18\r",
      "Iteration 19\r",
      "Iteration 20\r",
      "Iteration 21\r",
      "Iteration 22\r",
      "Iteration 23\r",
      "Iteration 24\r",
      "Iteration 25\r",
      "Iteration 26\r",
      "Iteration 27\r",
      "Iteration 28\r",
      "Iteration 29\r",
      "Iteration 30\r",
      "Iteration 31\r",
      "Iteration 32\r",
      "Iteration 33\r",
      "Iteration 34\r",
      "Iteration 35\r",
      "Iteration 36\r",
      "Iteration 37\r",
      "Iteration 38\r",
      "Iteration 39\r",
      "Iteration 40\r",
      "Iteration 41\r",
      "Iteration 42\r",
      "Iteration 43\r",
      "Iteration 44\r",
      "Iteration 45\r",
      "Iteration 46\r",
      "Iteration 47"
     ]
    },
    {
     "name": "stderr",
     "output_type": "stream",
     "text": [
      "D:\\fra_v\\Anaconda3\\envs\\tensorflow\\lib\\site-packages\\skimage\\transform\\_warps.py:110: UserWarning: Anti-aliasing will be enabled by default in skimage 0.15 to avoid aliasing artifacts when down-sampling images.\n",
      "  warn(\"Anti-aliasing will be enabled by default in skimage 0.15 to \"\n"
     ]
    },
    {
     "name": "stdout",
     "output_type": "stream",
     "text": [
      "Test: 49  1561Steps: 1563 Mean Real Return: 167.400000 Mean Clip Return:  16.740000 Mean Discounted Return:   2.825452 Training Loss : 0.031492\n",
      "Test: 49  25483Steps: 25485 Mean Real Return: 578.000000 Mean Clip Return:  42.120000 Mean Discounted Return:   5.244785 Training Loss : 0.018852\n",
      "Test: 49  50655Steps: 50657 Mean Real Return: 547.400000 Mean Clip Return:  43.520000 Mean Discounted Return:   4.835790 Training Loss : 0.017451\n",
      "Test: 49  75334Steps: 75336 Mean Real Return: 586.200000 Mean Clip Return:  42.140000 Mean Discounted Return:   4.732728 Training Loss : 0.023712\n",
      "Test: 49  100855Steps: 100857 Mean Real Return: 651.600000 Mean Clip Return:  45.080000 Mean Discounted Return:   5.109529 Training Loss : 0.029477\n",
      "Test: 49  125127Steps: 125129 Mean Real Return: 720.200000 Mean Clip Return:  46.980000 Mean Discounted Return:   5.364996 Training Loss : 0.034448\n"
     ]
    }
   ],
   "source": [
    "init = tf.global_variables_initializer()\n",
    "with tf.Session() as sess:\n",
    "\tinit.run()\n",
    "\tsaver = tf.train.Saver()\n",
    "\titeration = 0\n",
    "\trun_evaluation = False\n",
    "\tdone = True\n",
    "\n",
    "\t# Copy from real network into stationary network to ensure both have the same initial weight and bias\n",
    "\tupdate_stationary_target.run()\n",
    "\n",
    "\twhile True:\n",
    "\t\tprint(\"\\rIteration {}\".format(iteration), end=\"\")\n",
    "\t\titeration += 1\n",
    "\n",
    "\t\t# Break the loop when it hit maximum 1 million steps and run one last evaluation\n",
    "\t\tif iteration >= n_steps and done:\n",
    "\t\t\taverage_clip_return = evaluation(iteration, cummulative_loss)\n",
    "\t\t\tcummulative_loss = np.array([])\n",
    "\n",
    "\t\t\tdirectory_final = './'+game+'/model_Final_'+game\n",
    "\t\t\tcheck_directory(directory_final)\n",
    "\n",
    "\t\t\t# Store the final model\n",
    "\t\t\tsaver.save(sess, directory_final+'/'+game)\n",
    "\t\t\tbreak   \t\t\t\t\t\t\t\t\t# TO REMOVE\n",
    "\n",
    "\t\t# Update the stationary target by copying the current network to the stationary network every 5k steps\n",
    "\t\tif (iteration + 1) % 5000 == 0:\n",
    "\t\t\tupdate_stationary_target.run()\n",
    "\n",
    "\t\t# Run the evaluation every 50k steps and one time at the first 1k step just to evaluate the performance before training\n",
    "\t\tif (iteration + 1) % (n_steps / 5) == 0 or iteration == 1000:\n",
    "\t\t\trun_evaluation = True\n",
    "\n",
    "\t\tif done: \n",
    "\t\t\t# Run the evaluation every 50k steps\n",
    "\t\t\tif run_evaluation == True:\n",
    "\t\t\t\taverage_clip_return = evaluation(iteration, cummulative_loss)\n",
    "\t\t\t\tcummulative_loss = np.array([])\n",
    "\n",
    "\t\t\t\tdirectory_checkpoint = directory_game+'/model_'+game\n",
    "\t\t\t\t#print(directory_checkpoint)\n",
    "\t\t\t\tcheck_directory(directory_checkpoint)\n",
    "\n",
    "\t\t\t\t# Store the Best Model \n",
    "\t\t\t\tif average_clip_return > max_score:\n",
    "\t\t\t\t\tsaver.save(sess, directory_checkpoint+'/'+game)\n",
    "\t\t\t\t\tmax_score = average_clip_return\n",
    "\n",
    "\t\t\t\trun_evaluation = False\n",
    "\n",
    "\t\t\t# Build up the initial 4 frames of observation\n",
    "\t\t\tstate = initial_4_frames()\n",
    "\n",
    "\t\t# Evaluate the Q Value to select action\n",
    "\t\tq_values = Q_value.eval(feed_dict={X_state: [state]})\n",
    "\t\taction = epsilon_greedy(q_values)\n",
    "\n",
    "\t\t# Step through the environment with the selected action and preprocess the observation into 60 x 60\n",
    "\t\tobs, reward, done, info = env.step(action)\n",
    "\t\tnext_state = preprocess_observation(obs)\n",
    "\n",
    "\t\t# Store the previous observation for later calculation and update the 4 frames with the latest observation\n",
    "\t\told_state = state\n",
    "\t\tstate = np.delete(state, [0], axis=2)\n",
    "\t\tstate = np.dstack((state, next_state))\n",
    "\n",
    "\t\t# clip the reward (for more stable gradient update) and append all the information into experience replay \n",
    "\t\tclipped_reward = np.clip(reward, -1, 1)\n",
    "\t\treplay_memory.append((old_state, action, clipped_reward, state, 1.0 - done))\n",
    "\n",
    "\t\t# clear the experience replay by one to allow for new memory (This only start after experience replay has stored over 1 millions episodes)\n",
    "\t\tif len(replay_memory) > replay_memory_size:\n",
    "\t\t\treplay_memory.popleft()\n",
    "\n",
    "\t\t# Start Training once the experience replay has enough for one batch size\n",
    "\t\tif len(replay_memory) > batch_size:\n",
    "\t\t\tX_state_val, X_action_val, rewards, X_next_state_val, continues = sample_memories(batch_size)\n",
    "\t\t\tnext_q_values = target_Q_value.eval(feed_dict={X_state: X_next_state_val})\n",
    "\t\t\ty_val = rewards + discount_rate * continues * np.max(next_q_values, axis=1, keepdims=True)\n",
    "\t\t\ty_val = np.reshape(y_val, (64))\n",
    "\t\t\tloss, _ = sess.run([cost, training_op], feed_dict={X_state: X_state_val, X_action: X_action_val, y: y_val})\n",
    "\t\t\tcummulative_loss = np.append(cummulative_loss, loss)"
   ]
  },
  {
   "cell_type": "code",
   "execution_count": 64,
   "metadata": {},
   "outputs": [
    {
     "name": "stdout",
     "output_type": "stream",
     "text": [
      "Populating the interactive namespace from numpy and matplotlib\n"
     ]
    }
   ],
   "source": [
    "%pylab inline\n",
    "import matplotlib.pyplot as plt\n",
    "import matplotlib.image as mpimg\n",
    "\n",
    "# Plot for the graph for the clip return, discounted return and loss throughout the training\n",
    "directory_figure = directory_game+'/Graphs_and_Figure'\n",
    "check_directory(directory_figure)"
   ]
  },
  {
   "cell_type": "code",
   "execution_count": 67,
   "metadata": {},
   "outputs": [
    {
     "data": {
      "image/png": "[encoded data removed]",
      "text/plain": [
       "<Figure size 432x288 with 1 Axes>"
      ]
     },
     "metadata": {
      "needs_background": "light"
     },
     "output_type": "display_data"
    }
   ],
   "source": [
    "plt.figure(1)\n",
    "plt.plot(Total_Episode, Total_Clip_Return)\n",
    "plt.title('Performance (Clip Return)')\n",
    "plt.xlabel('Training Steps')\n",
    "plt.ylabel('Performance (Clip Return)')\n",
    "plt.savefig(directory_figure+'/Plot of Performance (Clip Return) Over '+str(n_steps)+' Steps.png')\n",
    "plt.show()"
   ]
  },
  {
   "cell_type": "code",
   "execution_count": 68,
   "metadata": {},
   "outputs": [
    {
     "data": {
      "image/png": "[encoded data removed]",
      "text/plain": [
       "<Figure size 432x288 with 1 Axes>"
      ]
     },
     "metadata": {
      "needs_background": "light"
     },
     "output_type": "display_data"
    }
   ],
   "source": [
    "plt.figure(2)\n",
    "plt.plot(Total_Episode, Total_Discounted_Return)\n",
    "plt.title('Performance (Mean Discounted Return)')\n",
    "plt.xlabel('Training Steps')\n",
    "plt.ylabel('Performance (Mean Discounted Return)')\n",
    "plt.savefig(directory_figure+'/Plot of Performance Over '+str(n_steps)+' Steps.png')\n",
    "plt.show()"
   ]
  },
  {
   "cell_type": "code",
   "execution_count": 70,
   "metadata": {},
   "outputs": [
    {
     "data": {
      "image/png": "[encoded data removed]",
      "text/plain": [
       "<Figure size 432x288 with 1 Axes>"
      ]
     },
     "metadata": {
      "needs_background": "light"
     },
     "output_type": "display_data"
    }
   ],
   "source": [
    "plt.figure(3)\n",
    "plt.plot(Total_Episode, Total_Loss)\n",
    "plt.title('Training Loss (Averagining over '+str(n_steps/5)+' steps)')\n",
    "plt.xlabel('Training Steps')\n",
    "plt.ylabel('Training Loss')\n",
    "plt.savefig(directory_figure+'/Plot of Loss Over '+str(n_steps)+' Steps.png')\n",
    "plt.show()"
   ]
  },
  {
   "cell_type": "code",
   "execution_count": null,
   "metadata": {},
   "outputs": [],
   "source": []
  }
 ],
 "metadata": {
  "kernelspec": {
   "display_name": "Python 3",
   "language": "python",
   "name": "python3"
  },
  "language_info": {
   "codemirror_mode": {
    "name": "ipython",
    "version": 3
   },
   "file_extension": ".py",
   "mimetype": "text/x-python",
   "name": "python",
   "nbconvert_exporter": "python",
   "pygments_lexer": "ipython3",
   "version": "3.5.6"
  }
 },
 "nbformat": 4,
 "nbformat_minor": 2
}
